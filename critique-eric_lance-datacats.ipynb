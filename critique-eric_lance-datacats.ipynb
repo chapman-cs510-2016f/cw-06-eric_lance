{
 "cells": [
  {
   "cell_type": "markdown",
   "metadata": {
    "collapsed": false
   },
   "source": [
    "# CW-05\n",
    "October 4, 2016\n",
    "CS-510\n",
    "Eric and Lance\n",
    "\n",
    "## datacats ComplexPlane reviewed by eric_lance\n",
    "The documentation in the code module is beautiful.  Very descriptive, clear, complete and easy to follow.\n",
    "\n",
    "Looking at the code itself, it is an interesting idea to have a create_plane() method which actually does the construction of the plane, rather than having it done explicitly inside the <tt>__init__()<tt> creator module.  It seems like the plane generation could have been handled inside the refresh(). The code seems to be set-up to accept a pre-built plane as an input, however the way this is implimented doesn't work as the create_plane() function is still called and appends the new plane to the input plane. If this functionality were removed, create_plane() could be absorbed into refresh().\n",
    "\n",
    "In the creator, the calculation for the increment is not correct.  It assumes that the input min is negative and the max is positive.  If both min and max are negative, or both min and max are positive, then the increment calculated will be incorrect. This could be fixed by using (max-min)/len instead of absolute values.\n",
    "\n",
    "<br>zoom() and set_f() look good as is."
   ]
  }
 ],
 "metadata": {
  "kernelspec": {
   "display_name": "Python 2 (SageMath)",
   "language": "python",
   "name": "python2"
  },
  "language_info": {
   "codemirror_mode": {
    "name": "ipython",
    "version": 2
   },
   "file_extension": ".py",
   "mimetype": "text/x-python",
   "name": "python",
   "nbconvert_exporter": "python",
   "pygments_lexer": "ipython2",
   "version": "2.7.10"
  }
 },
 "nbformat": 4,
 "nbformat_minor": 0
}
