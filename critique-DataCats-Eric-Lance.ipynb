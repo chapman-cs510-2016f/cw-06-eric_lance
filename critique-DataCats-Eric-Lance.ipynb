{
 "cells": [
  {
   "cell_type": "markdown",
   "metadata": {
    "collapsed": false
   },
   "source": [
    "# Classwork 6\n",
    "### Critique another group's classwork 5\n",
    "\n",
    "### Group Eric-Lance"
   ]
  },
  {
   "cell_type": "markdown",
   "metadata": {},
   "source": [
    "#### Is it clear how the code is organized? \n",
    "We, the people of Datacats, believe this module is very well organized and easy to follow. We can clearly see what each function does, where each function lies, i.e. nothing looks confusing or out of place. There are comments inbetween different steps, which makes understanding the different parts of the code easy to follow. Overall, the organization is good.\n",
    "\n",
    "#### Is the code properly documented with both docstrings and supplementary comments according to industry standards? \n",
    "Yes, the module has correctly documented docstrings, both for the module docstring and the function docstrings. As stated before, there are comments throughout the code which makes the algorithms easy to follow. One critique we feel is the docstrings themselves could contain more information. \n",
    "The Module Docstring, we feel is fine.\n",
    "The Function Docstring for the init, could use the wording \"the user needs to input\" or use the words \"parameter 1, parameter 2\" so if someone who was reading the docstring did not know how to use the function, they will have a better clerification of how to use the function, and which parameter input goes to which variable. We're not sure if it's a necessity, but it could be something to think about when writing programs where users not as familiar with cloding, needs to figure out how to use a module.\n",
    "The other Function Docstrings were taken from the original abscplane class, which is straightforward, so we think they're stated well, but we suppose it could use some more elaboration on the function. Once again, not sure if it's needed or necessary, but could be something to think.\n",
    "\n",
    "#### Can you follow the algorithm of the code, i.e., what it is doing, and how? \n",
    "It is very easy to follow. We loved how you guys made the xstep and ystep variable a part of the class' initial variables, so it can be used again in different functions. We liked how you built the plane, the coding of it is very concise, short, and saved a lot of steps, in comparison to what we did. Very straightforward and simple, which is good.\n",
    "\n",
    "#### Do you see any suggestions for how to improve the code? Discuss your critique with the members of the other group.\n",
    "Probaby the biggest suggestion for you guys is to put the test functions in a different module/file. This way, the code does not look unnecessarily long or cluttered. Although the test functions themselves don't interfere with code itself, we think asthetically wise, it would make your module look better. \n",
    "Although we will say we liked how you programmed your test functions. It is very good. "
   ]
  }
 ],
 "metadata": {
  "kernelspec": {
   "display_name": "Anaconda (Python 3)",
   "language": "python",
   "name": "anaconda3"
  },
  "language_info": {
   "codemirror_mode": {
    "name": "ipython",
    "version": 3
   },
   "file_extension": ".py",
   "mimetype": "text/x-python",
   "name": "python",
   "nbconvert_exporter": "python",
   "pygments_lexer": "ipython3",
   "version": "3.5.2"
  }
 },
 "nbformat": 4,
 "nbformat_minor": 0
}
